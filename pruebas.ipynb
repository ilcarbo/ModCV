{
 "cells": [
  {
   "cell_type": "code",
   "execution_count": 1,
   "metadata": {
    "collapsed": true
   },
   "outputs": [],
   "source": [
    "import pandas as pd"
   ]
  },
  {
   "cell_type": "code",
   "execution_count": 4,
   "outputs": [],
   "source": [
    "sheet_id = \"1cqwwyZPqwEV-H3fMP1CUtMAbsFRY2IghtZWcLwYrKGI\"\n",
    "sheet_name = \"entries\"\n",
    "url = f\"https://docs.google.com/spreadsheets/d/{sheet_id}/gviz/tq?tqx=out:csv&sheet={sheet_name}\"\n",
    "\n",
    "test_1 = pd.read_csv(url, )"
   ],
   "metadata": {
    "collapsed": false,
    "pycharm": {
     "name": "#%%\n"
    }
   }
  },
  {
   "cell_type": "code",
   "execution_count": 6,
   "outputs": [
    {
     "data": {
      "text/plain": "Index(['Where in your CV this entry belongs section',\n       'Main title of the entry title', 'Location the entry occured loc',\n       'Primary institution affiliation for entry institution',\n       'Start date of entry (year) start',\n       'End year of entry. Set to \"current\" if entry is still ongoing. end',\n       'Each description column is a separate bullet point for the entry. If you need more description bullet points simply add a new column with title \"description_{4,5,..}\" description_1',\n       'description_2', 'description_3',\n       'A filter variable that is used to decide if entry is in the smaller resume.  in_resume',\n       'Unnamed: 10', 'Unnamed: 11', 'Unnamed: 12', 'Unnamed: 13',\n       'Unnamed: 14', 'Unnamed: 15', 'Unnamed: 16', 'Unnamed: 17',\n       'Unnamed: 18', 'Unnamed: 19', 'Unnamed: 20', 'Unnamed: 21',\n       'Unnamed: 22', 'Unnamed: 23', 'Unnamed: 24', 'Unnamed: 25'],\n      dtype='object')"
     },
     "execution_count": 6,
     "metadata": {},
     "output_type": "execute_result"
    }
   ],
   "source": [
    "test_1.columns"
   ],
   "metadata": {
    "collapsed": false,
    "pycharm": {
     "name": "#%%\n"
    }
   }
  },
  {
   "cell_type": "code",
   "execution_count": 8,
   "outputs": [],
   "source": [
    "test_1.columns = [c.split(' ')[-1] for c in test_1.columns]"
   ],
   "metadata": {
    "collapsed": false,
    "pycharm": {
     "name": "#%%\n"
    }
   }
  },
  {
   "cell_type": "code",
   "execution_count": 9,
   "outputs": [
    {
     "data": {
      "text/plain": "                  section                                              title  \\\n0               education                     Doctor en Ciencia y Tecnología   \n1               education                        Licenciado en Biotecnología   \n2               education                  Diplomado en Ciencia y Tecnología   \n3               education                Técnico laboratorista universitario   \n4      research_positions                                 Research Assistant   \n5      research_positions                           Undergraduate Researcher   \n6      research_positions                           Undergraduate Researcher   \n7      research_positions              Human Computer Interaction Researcher   \n8      research_positions                        Graduate Research Assistant   \n9      research_positions                            Data Science Researcher   \n10     industry_positions                        Software Engineering Intern   \n11     industry_positions               Engineering Intern - User Experience   \n12     industry_positions                                Data Science Intern   \n13     industry_positions                           Data Artist In Residence   \n14     industry_positions              Data Journalist - Graphics Department   \n15     industry_positions                                  Software Engineer   \n16     teaching_positions                         Javascript for Shiny Users   \n17     teaching_positions                         Statistical Computing in R   \n18     teaching_positions        Advanced Statistical Learning and Inference   \n19     teaching_positions                     Advanced Statistical Computing   \n20     teaching_positions                  Data Visualization Best Practices   \n21     teaching_positions             Improving your visualization in Python   \n22  data_science_writings  [Classifying physical activity from smartphone...   \n23  data_science_writings  [Using AWK and R to Parse 25tb](https://livefr...   \n24  data_science_writings  [The United States of Seasons](https://livefre...   \n25  data_science_writings  [A year as told by fitbit](https://livefreeord...   \n26  data_science_writings  [MCMC and the case of the spilled seeds](https...   \n27  data_science_writings  [The Traveling Metallurgist](https://livefreeo...   \n28         about_me_press  [Great paper? Swipe right on the new ‘Tinder f...   \n29         about_me_press  [Swipe right for science: Papr app is ‘Tinder ...   \n30         about_me_press  [The Deeper Story in the Data](https://www.uvm...   \n31            by_me_press  [The Great Student Migration](https://www.nyti...   \n32            by_me_press  [Wildfires are Getting Worse, The New York Tim...   \n33            by_me_press  [Who’s Speaking at the Democratic National Con...   \n34            by_me_press  [Who’s Speaking at the Republican National Con...   \n35            by_me_press  [A Trail of Terror in Nice, Block by Block](ht...   \n36      academic_articles  Asymmetric Linkage Disequilibrium: Tools for D...   \n37      academic_articles  [An Agent Based Model of Mysis Migration](http...   \n38      academic_articles     Declines of Mysis diluviana in the Great Lakes   \n39      academic_articles  [Continuous Classification using Deep Neural N...   \n40      academic_articles  [Charge Reductions Associated with Shortening ...   \n41      academic_articles  R timelineViz: Visualizing the distribution of...   \n42      academic_articles  [Multimorbidity Explorer | A shiny app for exp...   \n43      academic_articles  [Taking a network view of EHR and Biobank data...   \n44      academic_articles  Patient-specific risk factors independently in...   \n45      academic_articles  Building a software package in tandem with mac...   \n46      academic_articles  [Stochastic Block Modeling in R, Statistically...   \n47      academic_articles  Patient specific comorbidities impact overall ...   \n48      academic_articles  [PheWAS-ME: A web-app for interactive explorat...   \n\n                                                  loc  \\\n0                     Universidad Nacional de Quilmes   \n1                     Universidad Nacional de Quilmes   \n2                     Universidad Nacional de Quilmes   \n3                     Universidad Nacional de Quilmes   \n4                                    Adair Laboratory   \n5                                   Bentil Laboratory   \n6            Rubenstein Ecosystems Science Laboratory   \n7                          LabInTheWild (Reineke Lab)   \n8                            TBILab (Yaomin Xu's Lab)   \n9                                    Data Science Lab   \n10                                            Conduce   \n11                                         Dealer.com   \n12                                         Dealer.com   \n13                                            Conduce   \n14                                     New York Times   \n15                                           RStudio    \n16                                 RStudio::conf 2020   \n17                Vanderbilt Biostatistics Department   \n18                Vanderbilt Biostatistics Department   \n19                Vanderbilt Biostatistics Department   \n20                                           DataCamp   \n21                                           DataCamp   \n22                            RStudio Tensorflow Blog   \n23                          LiveFreeOrDichotomize.com   \n24                          LiveFreeOrDichotomize.com   \n25                          LiveFreeOrDichotomize.com   \n26                          LiveFreeOrDichotomize.com   \n27                          LiveFreeOrDichotomize.com   \n28                                            Science   \n29                                        Nature News   \n30                    University of Vermont Quarterly   \n31                                 The New York Times   \n32                                 The New York Times   \n33                                 The New York Times   \n34                                 The New York Times   \n35                                 The New York Times   \n36                        Journal of Human Immunology   \n37  International Association of Great Lakes Resea...   \n38                    Journal of Great Lakes Research   \n39        Vanderbilt Biostatistics Qualification Exam   \n40                                              Chest   \n41        Under-Review (copy available upon request.)   \n42                                 RStudio::conf 2019   \n43            Vanderbilt Biostatistics Seminar Series   \n44        Under-Review (copy available upon request.)   \n45                                          ENAR 2020   \n46                                 RStudio::conf 2020   \n47        Under-Review (copy available upon request.)   \n48                                     Bioinformatics   \n\n                 institution   start     end  \\\n0    Buenos Aires, Argentina  2015.0     NaN   \n1    Buenos Aires, Argentina  2009.0  2015.0   \n2    Buenos Aires, Argentina  2009.0  2011.0   \n3    Buenos Aires, Argentina  2009.0  2011.0   \n4      University of Vermont  2012.0  2013.0   \n5      University of Vermont  2013.0  2014.0   \n6      University of Vermont  2013.0  2015.0   \n7     University of Michigan  2015.0  2015.0   \n8      Vanderbilt University  2015.0     NaN   \n9   Johns Hopkins University  2017.0  2018.0   \n10           Carpinteria, CA  2014.0  2014.0   \n11            Burlington, VT  2015.0  2015.0   \n12            Burlington, VT  2015.0  2015.0   \n13           Carpinteria, CA  2014.0  2015.0   \n14        New York, New York  2016.0  2016.0   \n15                    Remote  2020.0     NaN   \n16                       NaN     NaN  2020.0   \n17             Nashville, TN  2017.0  2017.0   \n18             Nashville, TN  2017.0  2018.0   \n19             Nashville, TN  2018.0  2018.0   \n20                       NaN  2019.0  2019.0   \n21                       NaN  2019.0  2019.0   \n22                       NaN     NaN  2018.0   \n23                       NaN     NaN  2019.0   \n24                       NaN     NaN  2018.0   \n25                       NaN     NaN  2017.0   \n26                       NaN     NaN  2017.0   \n27                       NaN     NaN  2017.0   \n28                       NaN  2017.0  2017.0   \n29                       NaN  2017.0  2017.0   \n30                       NaN  2016.0  2016.0   \n31                       NaN  2016.0  2016.0   \n32                       NaN  2016.0  2016.0   \n33                       NaN  2016.0  2016.0   \n34                       NaN  2016.0  2016.0   \n35                       NaN  2016.0  2016.0   \n36                       NaN  2015.0  2015.0   \n37                       NaN  2015.0  2015.0   \n38                       NaN  2015.0  2015.0   \n39                       NaN  2017.0  2017.0   \n40                       NaN  2019.0  2019.0   \n41                       NaN  2018.0  2018.0   \n42                       NaN  2019.0  2019.0   \n43                       NaN  2019.0  2019.0   \n44                       NaN     NaN  2019.0   \n45                       NaN     NaN  2020.0   \n46                       NaN     NaN  2020.0   \n47                       NaN     NaN  2019.0   \n48                       NaN     NaN  2020.0   \n\n                                        description_1  \\\n0                                                 NaN   \n1                      Orientación genética molecular   \n2                                                 NaN   \n3                                                 NaN   \n4   Independently analyzed and constructed statist...   \n5   Developed mathematical model to predict the tr...   \n6   Analyzed and visualized data for CATOS fish tr...   \n7   Led development and implementation of interact...   \n8   Primarily working with large EHR and Biobank d...   \n9   Building R Shiny applications in the contexts ...   \n10  Incorporated d3.js to the company's main softw...   \n11  Built internal tool to help analyze and visual...   \n12  Worked with the product analytics team to help...   \n13  Envisioned, prototyped and implemented visuali...   \n14  Reporter with the graphics desk covering topic...   \n15  Helping make programming web applications with...   \n16  Served as TA for two day workshop on how to le...   \n17                                    TA and lectured   \n18                                    TA and lectured   \n19                                    TA and lectured   \n20  Designed from bottom up course to teach best p...   \n21  Designed from bottom up course to teach advanc...   \n22  Walk through of training a convolutional neura...   \n23   Story of parsing large amounts of genomics data.   \n24  GIS analysis of weather data to find the most ...   \n25  Analyzing a full years worth of second-level h...   \n26  Full Bayesian MCMC sampler running in your bro...   \n27  Pure javascript implementation of traveling sa...   \n28  Story of the app [Papr](https://jhubiostatisti...   \n29                 Second press article for app Papr.   \n30  Story on my path post graduation and the power...   \n31  Most shared and discussed article from the New...   \n32  GIS analysis and modeling of fire patterns and...   \n33  Data scraped from CSPAN records to figure out ...   \n34  Used same data scraping techniques as Who’s Sp...   \n35  Led research effort to put together story of 2...   \n36  Authored with Richard Single, Vanja Paunic, Ma...   \n37  Authored with Brian O'Malley, Sture Hansson, a...   \n38   Authored with Peter Euclide and Jason Stockwell.   \n39  Review of methods for classifying continuous d...   \n40  Authored with Wesley H. Self, MD MPH; Dandan L...   \n41  Authored with Alex Sunderman of the Vanderbilt...   \n42       Contributed Poster. Authored with Yaomin Xu.   \n43                    University wide seminar series.   \n44  Bayesian network analysis used to find novel s...   \n45    Invited talk in Human Data Interaction section.   \n46  Invited talk about new [sbmR package](https://...   \n47  Bayesian network analysis used to find robust ...   \n48  Manuscript detailing application for the explo...   \n\n                                        description_2  \\\n0                                                 NaN   \n1                                                 NaN   \n2                                                 NaN   \n3                                                 NaN   \n4                                                 NaN   \n5                                                 NaN   \n6   Head of data mining project to establish tempo...   \n7                                                 NaN   \n8   Developing network-based methods to investigat...   \n9   Work primarily done in R Shiny and Javascript ...   \n10                                                NaN   \n11                                                NaN   \n12                                                NaN   \n13  Constructed training protocol for bringing thi...   \n14  Work primarily done in R, Javascript, and Adob...   \n15                                                NaN   \n16  Lectured on [using R2D3 package to build inter...   \n17  Covered introduction to R language for statist...   \n18  Topics covered from penalized regression to bo...   \n19    Covered modern statistical computing algorithms   \n20                                Uses R and ggplot2.   \n21              Uses python, matplotlib, and seaborn.   \n22                                Contracted article.   \n23  Provided advice for dealing with data much lar...   \n24  Used Bayesian regression methods for smoothing...   \n25  Demonstrated visualization-based inference for...   \n26          Coded from scratch in vanilla Javascript.   \n27  Allows reader to customize the number and loca...   \n28                                                NaN   \n29                                                NaN   \n30                                                NaN   \n31                                                NaN   \n32           Data in collaboration with NASA and USGS   \n33                                                NaN   \n34                                                NaN   \n35  Work won Silver medal at Malofiej 2017, and go...   \n36                                                NaN   \n37                                                NaN   \n38                                                NaN   \n39  Successfully met qualifying examination standards   \n40                                                NaN   \n41                                                NaN   \n42                                                NaN   \n43                                                NaN   \n44  Analysis done using method built for my disser...   \n45  How and why building an R package can benefit ...   \n46  Focus on how software development and methodol...   \n47  Analysis done using method built for my disser...   \n48  See [landing page](https://prod.tbilab.org/phe...   \n\n                                        description_3  in_resume  ...  16  17  \\\n0                                                 NaN      False  ... NaN NaN   \n1                                                 NaN      False  ... NaN NaN   \n2                                                 NaN      False  ... NaN NaN   \n3                                                 NaN       True  ... NaN NaN   \n4                                                 NaN      False  ... NaN NaN   \n5                                                 NaN      False  ... NaN NaN   \n6   Ran project to mathematically model the migrat...      False  ... NaN NaN   \n7                                                 NaN      False  ... NaN NaN   \n8                                                 NaN      False  ... NaN NaN   \n9                                                 NaN      False  ... NaN NaN   \n10                                                NaN      False  ... NaN NaN   \n11                                                NaN      False  ... NaN NaN   \n12                                                NaN      False  ... NaN NaN   \n13                                                NaN      False  ... NaN NaN   \n14                                                NaN      False  ... NaN NaN   \n15                                                NaN      False  ... NaN NaN   \n16                                                NaN      False  ... NaN NaN   \n17                               Graduate level class      False  ... NaN NaN   \n18         Highest level course offered in department      False  ... NaN NaN   \n19                           4th year PhD level class      False  ... NaN NaN   \n20              In top 10% on platform by popularity.      False  ... NaN NaN   \n21                                                NaN      False  ... NaN NaN   \n22                                                NaN      False  ... NaN NaN   \n23                         Reached top of HackerNews.      False  ... NaN NaN   \n24                                                NaN      False  ... NaN NaN   \n25                                                NaN      False  ... NaN NaN   \n26                                                NaN      False  ... NaN NaN   \n27                                                NaN      False  ... NaN NaN   \n28                                                NaN      False  ... NaN NaN   \n29                                                NaN      False  ... NaN NaN   \n30                                                NaN      False  ... NaN NaN   \n31                                                NaN      False  ... NaN NaN   \n32                                                NaN      False  ... NaN NaN   \n33                                                NaN      False  ... NaN NaN   \n34                                                NaN      False  ... NaN NaN   \n35                                                NaN      False  ... NaN NaN   \n36                                                NaN      False  ... NaN NaN   \n37                                                NaN      False  ... NaN NaN   \n38                                                NaN      False  ... NaN NaN   \n39                                                NaN      False  ... NaN NaN   \n40                                                NaN      False  ... NaN NaN   \n41                                                NaN      False  ... NaN NaN   \n42                                                NaN      False  ... NaN NaN   \n43                                                NaN      False  ... NaN NaN   \n44                                                NaN      False  ... NaN NaN   \n45                                                NaN      False  ... NaN NaN   \n46                                                NaN      False  ... NaN NaN   \n47                                                NaN      False  ... NaN NaN   \n48                                                NaN      False  ... NaN NaN   \n\n    18  19  20  21  22  23  24  25  \n0  NaN NaN NaN NaN NaN NaN NaN NaN  \n1  NaN NaN NaN NaN NaN NaN NaN NaN  \n2  NaN NaN NaN NaN NaN NaN NaN NaN  \n3  NaN NaN NaN NaN NaN NaN NaN NaN  \n4  NaN NaN NaN NaN NaN NaN NaN NaN  \n5  NaN NaN NaN NaN NaN NaN NaN NaN  \n6  NaN NaN NaN NaN NaN NaN NaN NaN  \n7  NaN NaN NaN NaN NaN NaN NaN NaN  \n8  NaN NaN NaN NaN NaN NaN NaN NaN  \n9  NaN NaN NaN NaN NaN NaN NaN NaN  \n10 NaN NaN NaN NaN NaN NaN NaN NaN  \n11 NaN NaN NaN NaN NaN NaN NaN NaN  \n12 NaN NaN NaN NaN NaN NaN NaN NaN  \n13 NaN NaN NaN NaN NaN NaN NaN NaN  \n14 NaN NaN NaN NaN NaN NaN NaN NaN  \n15 NaN NaN NaN NaN NaN NaN NaN NaN  \n16 NaN NaN NaN NaN NaN NaN NaN NaN  \n17 NaN NaN NaN NaN NaN NaN NaN NaN  \n18 NaN NaN NaN NaN NaN NaN NaN NaN  \n19 NaN NaN NaN NaN NaN NaN NaN NaN  \n20 NaN NaN NaN NaN NaN NaN NaN NaN  \n21 NaN NaN NaN NaN NaN NaN NaN NaN  \n22 NaN NaN NaN NaN NaN NaN NaN NaN  \n23 NaN NaN NaN NaN NaN NaN NaN NaN  \n24 NaN NaN NaN NaN NaN NaN NaN NaN  \n25 NaN NaN NaN NaN NaN NaN NaN NaN  \n26 NaN NaN NaN NaN NaN NaN NaN NaN  \n27 NaN NaN NaN NaN NaN NaN NaN NaN  \n28 NaN NaN NaN NaN NaN NaN NaN NaN  \n29 NaN NaN NaN NaN NaN NaN NaN NaN  \n30 NaN NaN NaN NaN NaN NaN NaN NaN  \n31 NaN NaN NaN NaN NaN NaN NaN NaN  \n32 NaN NaN NaN NaN NaN NaN NaN NaN  \n33 NaN NaN NaN NaN NaN NaN NaN NaN  \n34 NaN NaN NaN NaN NaN NaN NaN NaN  \n35 NaN NaN NaN NaN NaN NaN NaN NaN  \n36 NaN NaN NaN NaN NaN NaN NaN NaN  \n37 NaN NaN NaN NaN NaN NaN NaN NaN  \n38 NaN NaN NaN NaN NaN NaN NaN NaN  \n39 NaN NaN NaN NaN NaN NaN NaN NaN  \n40 NaN NaN NaN NaN NaN NaN NaN NaN  \n41 NaN NaN NaN NaN NaN NaN NaN NaN  \n42 NaN NaN NaN NaN NaN NaN NaN NaN  \n43 NaN NaN NaN NaN NaN NaN NaN NaN  \n44 NaN NaN NaN NaN NaN NaN NaN NaN  \n45 NaN NaN NaN NaN NaN NaN NaN NaN  \n46 NaN NaN NaN NaN NaN NaN NaN NaN  \n47 NaN NaN NaN NaN NaN NaN NaN NaN  \n48 NaN NaN NaN NaN NaN NaN NaN NaN  \n\n[49 rows x 26 columns]",
      "text/html": "<div>\n<style scoped>\n    .dataframe tbody tr th:only-of-type {\n        vertical-align: middle;\n    }\n\n    .dataframe tbody tr th {\n        vertical-align: top;\n    }\n\n    .dataframe thead th {\n        text-align: right;\n    }\n</style>\n<table border=\"1\" class=\"dataframe\">\n  <thead>\n    <tr style=\"text-align: right;\">\n      <th></th>\n      <th>section</th>\n      <th>title</th>\n      <th>loc</th>\n      <th>institution</th>\n      <th>start</th>\n      <th>end</th>\n      <th>description_1</th>\n      <th>description_2</th>\n      <th>description_3</th>\n      <th>in_resume</th>\n      <th>...</th>\n      <th>16</th>\n      <th>17</th>\n      <th>18</th>\n      <th>19</th>\n      <th>20</th>\n      <th>21</th>\n      <th>22</th>\n      <th>23</th>\n      <th>24</th>\n      <th>25</th>\n    </tr>\n  </thead>\n  <tbody>\n    <tr>\n      <th>0</th>\n      <td>education</td>\n      <td>Doctor en Ciencia y Tecnología</td>\n      <td>Universidad Nacional de Quilmes</td>\n      <td>Buenos Aires, Argentina</td>\n      <td>2015.0</td>\n      <td>NaN</td>\n      <td>NaN</td>\n      <td>NaN</td>\n      <td>NaN</td>\n      <td>False</td>\n      <td>...</td>\n      <td>NaN</td>\n      <td>NaN</td>\n      <td>NaN</td>\n      <td>NaN</td>\n      <td>NaN</td>\n      <td>NaN</td>\n      <td>NaN</td>\n      <td>NaN</td>\n      <td>NaN</td>\n      <td>NaN</td>\n    </tr>\n    <tr>\n      <th>1</th>\n      <td>education</td>\n      <td>Licenciado en Biotecnología</td>\n      <td>Universidad Nacional de Quilmes</td>\n      <td>Buenos Aires, Argentina</td>\n      <td>2009.0</td>\n      <td>2015.0</td>\n      <td>Orientación genética molecular</td>\n      <td>NaN</td>\n      <td>NaN</td>\n      <td>False</td>\n      <td>...</td>\n      <td>NaN</td>\n      <td>NaN</td>\n      <td>NaN</td>\n      <td>NaN</td>\n      <td>NaN</td>\n      <td>NaN</td>\n      <td>NaN</td>\n      <td>NaN</td>\n      <td>NaN</td>\n      <td>NaN</td>\n    </tr>\n    <tr>\n      <th>2</th>\n      <td>education</td>\n      <td>Diplomado en Ciencia y Tecnología</td>\n      <td>Universidad Nacional de Quilmes</td>\n      <td>Buenos Aires, Argentina</td>\n      <td>2009.0</td>\n      <td>2011.0</td>\n      <td>NaN</td>\n      <td>NaN</td>\n      <td>NaN</td>\n      <td>False</td>\n      <td>...</td>\n      <td>NaN</td>\n      <td>NaN</td>\n      <td>NaN</td>\n      <td>NaN</td>\n      <td>NaN</td>\n      <td>NaN</td>\n      <td>NaN</td>\n      <td>NaN</td>\n      <td>NaN</td>\n      <td>NaN</td>\n    </tr>\n    <tr>\n      <th>3</th>\n      <td>education</td>\n      <td>Técnico laboratorista universitario</td>\n      <td>Universidad Nacional de Quilmes</td>\n      <td>Buenos Aires, Argentina</td>\n      <td>2009.0</td>\n      <td>2011.0</td>\n      <td>NaN</td>\n      <td>NaN</td>\n      <td>NaN</td>\n      <td>True</td>\n      <td>...</td>\n      <td>NaN</td>\n      <td>NaN</td>\n      <td>NaN</td>\n      <td>NaN</td>\n      <td>NaN</td>\n      <td>NaN</td>\n      <td>NaN</td>\n      <td>NaN</td>\n      <td>NaN</td>\n      <td>NaN</td>\n    </tr>\n    <tr>\n      <th>4</th>\n      <td>research_positions</td>\n      <td>Research Assistant</td>\n      <td>Adair Laboratory</td>\n      <td>University of Vermont</td>\n      <td>2012.0</td>\n      <td>2013.0</td>\n      <td>Independently analyzed and constructed statist...</td>\n      <td>NaN</td>\n      <td>NaN</td>\n      <td>False</td>\n      <td>...</td>\n      <td>NaN</td>\n      <td>NaN</td>\n      <td>NaN</td>\n      <td>NaN</td>\n      <td>NaN</td>\n      <td>NaN</td>\n      <td>NaN</td>\n      <td>NaN</td>\n      <td>NaN</td>\n      <td>NaN</td>\n    </tr>\n    <tr>\n      <th>5</th>\n      <td>research_positions</td>\n      <td>Undergraduate Researcher</td>\n      <td>Bentil Laboratory</td>\n      <td>University of Vermont</td>\n      <td>2013.0</td>\n      <td>2014.0</td>\n      <td>Developed mathematical model to predict the tr...</td>\n      <td>NaN</td>\n      <td>NaN</td>\n      <td>False</td>\n      <td>...</td>\n      <td>NaN</td>\n      <td>NaN</td>\n      <td>NaN</td>\n      <td>NaN</td>\n      <td>NaN</td>\n      <td>NaN</td>\n      <td>NaN</td>\n      <td>NaN</td>\n      <td>NaN</td>\n      <td>NaN</td>\n    </tr>\n    <tr>\n      <th>6</th>\n      <td>research_positions</td>\n      <td>Undergraduate Researcher</td>\n      <td>Rubenstein Ecosystems Science Laboratory</td>\n      <td>University of Vermont</td>\n      <td>2013.0</td>\n      <td>2015.0</td>\n      <td>Analyzed and visualized data for CATOS fish tr...</td>\n      <td>Head of data mining project to establish tempo...</td>\n      <td>Ran project to mathematically model the migrat...</td>\n      <td>False</td>\n      <td>...</td>\n      <td>NaN</td>\n      <td>NaN</td>\n      <td>NaN</td>\n      <td>NaN</td>\n      <td>NaN</td>\n      <td>NaN</td>\n      <td>NaN</td>\n      <td>NaN</td>\n      <td>NaN</td>\n      <td>NaN</td>\n    </tr>\n    <tr>\n      <th>7</th>\n      <td>research_positions</td>\n      <td>Human Computer Interaction Researcher</td>\n      <td>LabInTheWild (Reineke Lab)</td>\n      <td>University of Michigan</td>\n      <td>2015.0</td>\n      <td>2015.0</td>\n      <td>Led development and implementation of interact...</td>\n      <td>NaN</td>\n      <td>NaN</td>\n      <td>False</td>\n      <td>...</td>\n      <td>NaN</td>\n      <td>NaN</td>\n      <td>NaN</td>\n      <td>NaN</td>\n      <td>NaN</td>\n      <td>NaN</td>\n      <td>NaN</td>\n      <td>NaN</td>\n      <td>NaN</td>\n      <td>NaN</td>\n    </tr>\n    <tr>\n      <th>8</th>\n      <td>research_positions</td>\n      <td>Graduate Research Assistant</td>\n      <td>TBILab (Yaomin Xu's Lab)</td>\n      <td>Vanderbilt University</td>\n      <td>2015.0</td>\n      <td>NaN</td>\n      <td>Primarily working with large EHR and Biobank d...</td>\n      <td>Developing network-based methods to investigat...</td>\n      <td>NaN</td>\n      <td>False</td>\n      <td>...</td>\n      <td>NaN</td>\n      <td>NaN</td>\n      <td>NaN</td>\n      <td>NaN</td>\n      <td>NaN</td>\n      <td>NaN</td>\n      <td>NaN</td>\n      <td>NaN</td>\n      <td>NaN</td>\n      <td>NaN</td>\n    </tr>\n    <tr>\n      <th>9</th>\n      <td>research_positions</td>\n      <td>Data Science Researcher</td>\n      <td>Data Science Lab</td>\n      <td>Johns Hopkins University</td>\n      <td>2017.0</td>\n      <td>2018.0</td>\n      <td>Building R Shiny applications in the contexts ...</td>\n      <td>Work primarily done in R Shiny and Javascript ...</td>\n      <td>NaN</td>\n      <td>False</td>\n      <td>...</td>\n      <td>NaN</td>\n      <td>NaN</td>\n      <td>NaN</td>\n      <td>NaN</td>\n      <td>NaN</td>\n      <td>NaN</td>\n      <td>NaN</td>\n      <td>NaN</td>\n      <td>NaN</td>\n      <td>NaN</td>\n    </tr>\n    <tr>\n      <th>10</th>\n      <td>industry_positions</td>\n      <td>Software Engineering Intern</td>\n      <td>Conduce</td>\n      <td>Carpinteria, CA</td>\n      <td>2014.0</td>\n      <td>2014.0</td>\n      <td>Incorporated d3.js to the company's main softw...</td>\n      <td>NaN</td>\n      <td>NaN</td>\n      <td>False</td>\n      <td>...</td>\n      <td>NaN</td>\n      <td>NaN</td>\n      <td>NaN</td>\n      <td>NaN</td>\n      <td>NaN</td>\n      <td>NaN</td>\n      <td>NaN</td>\n      <td>NaN</td>\n      <td>NaN</td>\n      <td>NaN</td>\n    </tr>\n    <tr>\n      <th>11</th>\n      <td>industry_positions</td>\n      <td>Engineering Intern - User Experience</td>\n      <td>Dealer.com</td>\n      <td>Burlington, VT</td>\n      <td>2015.0</td>\n      <td>2015.0</td>\n      <td>Built internal tool to help analyze and visual...</td>\n      <td>NaN</td>\n      <td>NaN</td>\n      <td>False</td>\n      <td>...</td>\n      <td>NaN</td>\n      <td>NaN</td>\n      <td>NaN</td>\n      <td>NaN</td>\n      <td>NaN</td>\n      <td>NaN</td>\n      <td>NaN</td>\n      <td>NaN</td>\n      <td>NaN</td>\n      <td>NaN</td>\n    </tr>\n    <tr>\n      <th>12</th>\n      <td>industry_positions</td>\n      <td>Data Science Intern</td>\n      <td>Dealer.com</td>\n      <td>Burlington, VT</td>\n      <td>2015.0</td>\n      <td>2015.0</td>\n      <td>Worked with the product analytics team to help...</td>\n      <td>NaN</td>\n      <td>NaN</td>\n      <td>False</td>\n      <td>...</td>\n      <td>NaN</td>\n      <td>NaN</td>\n      <td>NaN</td>\n      <td>NaN</td>\n      <td>NaN</td>\n      <td>NaN</td>\n      <td>NaN</td>\n      <td>NaN</td>\n      <td>NaN</td>\n      <td>NaN</td>\n    </tr>\n    <tr>\n      <th>13</th>\n      <td>industry_positions</td>\n      <td>Data Artist In Residence</td>\n      <td>Conduce</td>\n      <td>Carpinteria, CA</td>\n      <td>2014.0</td>\n      <td>2015.0</td>\n      <td>Envisioned, prototyped and implemented visuali...</td>\n      <td>Constructed training protocol for bringing thi...</td>\n      <td>NaN</td>\n      <td>False</td>\n      <td>...</td>\n      <td>NaN</td>\n      <td>NaN</td>\n      <td>NaN</td>\n      <td>NaN</td>\n      <td>NaN</td>\n      <td>NaN</td>\n      <td>NaN</td>\n      <td>NaN</td>\n      <td>NaN</td>\n      <td>NaN</td>\n    </tr>\n    <tr>\n      <th>14</th>\n      <td>industry_positions</td>\n      <td>Data Journalist - Graphics Department</td>\n      <td>New York Times</td>\n      <td>New York, New York</td>\n      <td>2016.0</td>\n      <td>2016.0</td>\n      <td>Reporter with the graphics desk covering topic...</td>\n      <td>Work primarily done in R, Javascript, and Adob...</td>\n      <td>NaN</td>\n      <td>False</td>\n      <td>...</td>\n      <td>NaN</td>\n      <td>NaN</td>\n      <td>NaN</td>\n      <td>NaN</td>\n      <td>NaN</td>\n      <td>NaN</td>\n      <td>NaN</td>\n      <td>NaN</td>\n      <td>NaN</td>\n      <td>NaN</td>\n    </tr>\n    <tr>\n      <th>15</th>\n      <td>industry_positions</td>\n      <td>Software Engineer</td>\n      <td>RStudio</td>\n      <td>Remote</td>\n      <td>2020.0</td>\n      <td>NaN</td>\n      <td>Helping make programming web applications with...</td>\n      <td>NaN</td>\n      <td>NaN</td>\n      <td>False</td>\n      <td>...</td>\n      <td>NaN</td>\n      <td>NaN</td>\n      <td>NaN</td>\n      <td>NaN</td>\n      <td>NaN</td>\n      <td>NaN</td>\n      <td>NaN</td>\n      <td>NaN</td>\n      <td>NaN</td>\n      <td>NaN</td>\n    </tr>\n    <tr>\n      <th>16</th>\n      <td>teaching_positions</td>\n      <td>Javascript for Shiny Users</td>\n      <td>RStudio::conf 2020</td>\n      <td>NaN</td>\n      <td>NaN</td>\n      <td>2020.0</td>\n      <td>Served as TA for two day workshop on how to le...</td>\n      <td>Lectured on [using R2D3 package to build inter...</td>\n      <td>NaN</td>\n      <td>False</td>\n      <td>...</td>\n      <td>NaN</td>\n      <td>NaN</td>\n      <td>NaN</td>\n      <td>NaN</td>\n      <td>NaN</td>\n      <td>NaN</td>\n      <td>NaN</td>\n      <td>NaN</td>\n      <td>NaN</td>\n      <td>NaN</td>\n    </tr>\n    <tr>\n      <th>17</th>\n      <td>teaching_positions</td>\n      <td>Statistical Computing in R</td>\n      <td>Vanderbilt Biostatistics Department</td>\n      <td>Nashville, TN</td>\n      <td>2017.0</td>\n      <td>2017.0</td>\n      <td>TA and lectured</td>\n      <td>Covered introduction to R language for statist...</td>\n      <td>Graduate level class</td>\n      <td>False</td>\n      <td>...</td>\n      <td>NaN</td>\n      <td>NaN</td>\n      <td>NaN</td>\n      <td>NaN</td>\n      <td>NaN</td>\n      <td>NaN</td>\n      <td>NaN</td>\n      <td>NaN</td>\n      <td>NaN</td>\n      <td>NaN</td>\n    </tr>\n    <tr>\n      <th>18</th>\n      <td>teaching_positions</td>\n      <td>Advanced Statistical Learning and Inference</td>\n      <td>Vanderbilt Biostatistics Department</td>\n      <td>Nashville, TN</td>\n      <td>2017.0</td>\n      <td>2018.0</td>\n      <td>TA and lectured</td>\n      <td>Topics covered from penalized regression to bo...</td>\n      <td>Highest level course offered in department</td>\n      <td>False</td>\n      <td>...</td>\n      <td>NaN</td>\n      <td>NaN</td>\n      <td>NaN</td>\n      <td>NaN</td>\n      <td>NaN</td>\n      <td>NaN</td>\n      <td>NaN</td>\n      <td>NaN</td>\n      <td>NaN</td>\n      <td>NaN</td>\n    </tr>\n    <tr>\n      <th>19</th>\n      <td>teaching_positions</td>\n      <td>Advanced Statistical Computing</td>\n      <td>Vanderbilt Biostatistics Department</td>\n      <td>Nashville, TN</td>\n      <td>2018.0</td>\n      <td>2018.0</td>\n      <td>TA and lectured</td>\n      <td>Covered modern statistical computing algorithms</td>\n      <td>4th year PhD level class</td>\n      <td>False</td>\n      <td>...</td>\n      <td>NaN</td>\n      <td>NaN</td>\n      <td>NaN</td>\n      <td>NaN</td>\n      <td>NaN</td>\n      <td>NaN</td>\n      <td>NaN</td>\n      <td>NaN</td>\n      <td>NaN</td>\n      <td>NaN</td>\n    </tr>\n    <tr>\n      <th>20</th>\n      <td>teaching_positions</td>\n      <td>Data Visualization Best Practices</td>\n      <td>DataCamp</td>\n      <td>NaN</td>\n      <td>2019.0</td>\n      <td>2019.0</td>\n      <td>Designed from bottom up course to teach best p...</td>\n      <td>Uses R and ggplot2.</td>\n      <td>In top 10% on platform by popularity.</td>\n      <td>False</td>\n      <td>...</td>\n      <td>NaN</td>\n      <td>NaN</td>\n      <td>NaN</td>\n      <td>NaN</td>\n      <td>NaN</td>\n      <td>NaN</td>\n      <td>NaN</td>\n      <td>NaN</td>\n      <td>NaN</td>\n      <td>NaN</td>\n    </tr>\n    <tr>\n      <th>21</th>\n      <td>teaching_positions</td>\n      <td>Improving your visualization in Python</td>\n      <td>DataCamp</td>\n      <td>NaN</td>\n      <td>2019.0</td>\n      <td>2019.0</td>\n      <td>Designed from bottom up course to teach advanc...</td>\n      <td>Uses python, matplotlib, and seaborn.</td>\n      <td>NaN</td>\n      <td>False</td>\n      <td>...</td>\n      <td>NaN</td>\n      <td>NaN</td>\n      <td>NaN</td>\n      <td>NaN</td>\n      <td>NaN</td>\n      <td>NaN</td>\n      <td>NaN</td>\n      <td>NaN</td>\n      <td>NaN</td>\n      <td>NaN</td>\n    </tr>\n    <tr>\n      <th>22</th>\n      <td>data_science_writings</td>\n      <td>[Classifying physical activity from smartphone...</td>\n      <td>RStudio Tensorflow Blog</td>\n      <td>NaN</td>\n      <td>NaN</td>\n      <td>2018.0</td>\n      <td>Walk through of training a convolutional neura...</td>\n      <td>Contracted article.</td>\n      <td>NaN</td>\n      <td>False</td>\n      <td>...</td>\n      <td>NaN</td>\n      <td>NaN</td>\n      <td>NaN</td>\n      <td>NaN</td>\n      <td>NaN</td>\n      <td>NaN</td>\n      <td>NaN</td>\n      <td>NaN</td>\n      <td>NaN</td>\n      <td>NaN</td>\n    </tr>\n    <tr>\n      <th>23</th>\n      <td>data_science_writings</td>\n      <td>[Using AWK and R to Parse 25tb](https://livefr...</td>\n      <td>LiveFreeOrDichotomize.com</td>\n      <td>NaN</td>\n      <td>NaN</td>\n      <td>2019.0</td>\n      <td>Story of parsing large amounts of genomics data.</td>\n      <td>Provided advice for dealing with data much lar...</td>\n      <td>Reached top of HackerNews.</td>\n      <td>False</td>\n      <td>...</td>\n      <td>NaN</td>\n      <td>NaN</td>\n      <td>NaN</td>\n      <td>NaN</td>\n      <td>NaN</td>\n      <td>NaN</td>\n      <td>NaN</td>\n      <td>NaN</td>\n      <td>NaN</td>\n      <td>NaN</td>\n    </tr>\n    <tr>\n      <th>24</th>\n      <td>data_science_writings</td>\n      <td>[The United States of Seasons](https://livefre...</td>\n      <td>LiveFreeOrDichotomize.com</td>\n      <td>NaN</td>\n      <td>NaN</td>\n      <td>2018.0</td>\n      <td>GIS analysis of weather data to find the most ...</td>\n      <td>Used Bayesian regression methods for smoothing...</td>\n      <td>NaN</td>\n      <td>False</td>\n      <td>...</td>\n      <td>NaN</td>\n      <td>NaN</td>\n      <td>NaN</td>\n      <td>NaN</td>\n      <td>NaN</td>\n      <td>NaN</td>\n      <td>NaN</td>\n      <td>NaN</td>\n      <td>NaN</td>\n      <td>NaN</td>\n    </tr>\n    <tr>\n      <th>25</th>\n      <td>data_science_writings</td>\n      <td>[A year as told by fitbit](https://livefreeord...</td>\n      <td>LiveFreeOrDichotomize.com</td>\n      <td>NaN</td>\n      <td>NaN</td>\n      <td>2017.0</td>\n      <td>Analyzing a full years worth of second-level h...</td>\n      <td>Demonstrated visualization-based inference for...</td>\n      <td>NaN</td>\n      <td>False</td>\n      <td>...</td>\n      <td>NaN</td>\n      <td>NaN</td>\n      <td>NaN</td>\n      <td>NaN</td>\n      <td>NaN</td>\n      <td>NaN</td>\n      <td>NaN</td>\n      <td>NaN</td>\n      <td>NaN</td>\n      <td>NaN</td>\n    </tr>\n    <tr>\n      <th>26</th>\n      <td>data_science_writings</td>\n      <td>[MCMC and the case of the spilled seeds](https...</td>\n      <td>LiveFreeOrDichotomize.com</td>\n      <td>NaN</td>\n      <td>NaN</td>\n      <td>2017.0</td>\n      <td>Full Bayesian MCMC sampler running in your bro...</td>\n      <td>Coded from scratch in vanilla Javascript.</td>\n      <td>NaN</td>\n      <td>False</td>\n      <td>...</td>\n      <td>NaN</td>\n      <td>NaN</td>\n      <td>NaN</td>\n      <td>NaN</td>\n      <td>NaN</td>\n      <td>NaN</td>\n      <td>NaN</td>\n      <td>NaN</td>\n      <td>NaN</td>\n      <td>NaN</td>\n    </tr>\n    <tr>\n      <th>27</th>\n      <td>data_science_writings</td>\n      <td>[The Traveling Metallurgist](https://livefreeo...</td>\n      <td>LiveFreeOrDichotomize.com</td>\n      <td>NaN</td>\n      <td>NaN</td>\n      <td>2017.0</td>\n      <td>Pure javascript implementation of traveling sa...</td>\n      <td>Allows reader to customize the number and loca...</td>\n      <td>NaN</td>\n      <td>False</td>\n      <td>...</td>\n      <td>NaN</td>\n      <td>NaN</td>\n      <td>NaN</td>\n      <td>NaN</td>\n      <td>NaN</td>\n      <td>NaN</td>\n      <td>NaN</td>\n      <td>NaN</td>\n      <td>NaN</td>\n      <td>NaN</td>\n    </tr>\n    <tr>\n      <th>28</th>\n      <td>about_me_press</td>\n      <td>[Great paper? Swipe right on the new ‘Tinder f...</td>\n      <td>Science</td>\n      <td>NaN</td>\n      <td>2017.0</td>\n      <td>2017.0</td>\n      <td>Story of the app [Papr](https://jhubiostatisti...</td>\n      <td>NaN</td>\n      <td>NaN</td>\n      <td>False</td>\n      <td>...</td>\n      <td>NaN</td>\n      <td>NaN</td>\n      <td>NaN</td>\n      <td>NaN</td>\n      <td>NaN</td>\n      <td>NaN</td>\n      <td>NaN</td>\n      <td>NaN</td>\n      <td>NaN</td>\n      <td>NaN</td>\n    </tr>\n    <tr>\n      <th>29</th>\n      <td>about_me_press</td>\n      <td>[Swipe right for science: Papr app is ‘Tinder ...</td>\n      <td>Nature News</td>\n      <td>NaN</td>\n      <td>2017.0</td>\n      <td>2017.0</td>\n      <td>Second press article for app Papr.</td>\n      <td>NaN</td>\n      <td>NaN</td>\n      <td>False</td>\n      <td>...</td>\n      <td>NaN</td>\n      <td>NaN</td>\n      <td>NaN</td>\n      <td>NaN</td>\n      <td>NaN</td>\n      <td>NaN</td>\n      <td>NaN</td>\n      <td>NaN</td>\n      <td>NaN</td>\n      <td>NaN</td>\n    </tr>\n    <tr>\n      <th>30</th>\n      <td>about_me_press</td>\n      <td>[The Deeper Story in the Data](https://www.uvm...</td>\n      <td>University of Vermont Quarterly</td>\n      <td>NaN</td>\n      <td>2016.0</td>\n      <td>2016.0</td>\n      <td>Story on my path post graduation and the power...</td>\n      <td>NaN</td>\n      <td>NaN</td>\n      <td>False</td>\n      <td>...</td>\n      <td>NaN</td>\n      <td>NaN</td>\n      <td>NaN</td>\n      <td>NaN</td>\n      <td>NaN</td>\n      <td>NaN</td>\n      <td>NaN</td>\n      <td>NaN</td>\n      <td>NaN</td>\n      <td>NaN</td>\n    </tr>\n    <tr>\n      <th>31</th>\n      <td>by_me_press</td>\n      <td>[The Great Student Migration](https://www.nyti...</td>\n      <td>The New York Times</td>\n      <td>NaN</td>\n      <td>2016.0</td>\n      <td>2016.0</td>\n      <td>Most shared and discussed article from the New...</td>\n      <td>NaN</td>\n      <td>NaN</td>\n      <td>False</td>\n      <td>...</td>\n      <td>NaN</td>\n      <td>NaN</td>\n      <td>NaN</td>\n      <td>NaN</td>\n      <td>NaN</td>\n      <td>NaN</td>\n      <td>NaN</td>\n      <td>NaN</td>\n      <td>NaN</td>\n      <td>NaN</td>\n    </tr>\n    <tr>\n      <th>32</th>\n      <td>by_me_press</td>\n      <td>[Wildfires are Getting Worse, The New York Tim...</td>\n      <td>The New York Times</td>\n      <td>NaN</td>\n      <td>2016.0</td>\n      <td>2016.0</td>\n      <td>GIS analysis and modeling of fire patterns and...</td>\n      <td>Data in collaboration with NASA and USGS</td>\n      <td>NaN</td>\n      <td>False</td>\n      <td>...</td>\n      <td>NaN</td>\n      <td>NaN</td>\n      <td>NaN</td>\n      <td>NaN</td>\n      <td>NaN</td>\n      <td>NaN</td>\n      <td>NaN</td>\n      <td>NaN</td>\n      <td>NaN</td>\n      <td>NaN</td>\n    </tr>\n    <tr>\n      <th>33</th>\n      <td>by_me_press</td>\n      <td>[Who’s Speaking at the Democratic National Con...</td>\n      <td>The New York Times</td>\n      <td>NaN</td>\n      <td>2016.0</td>\n      <td>2016.0</td>\n      <td>Data scraped from CSPAN records to figure out ...</td>\n      <td>NaN</td>\n      <td>NaN</td>\n      <td>False</td>\n      <td>...</td>\n      <td>NaN</td>\n      <td>NaN</td>\n      <td>NaN</td>\n      <td>NaN</td>\n      <td>NaN</td>\n      <td>NaN</td>\n      <td>NaN</td>\n      <td>NaN</td>\n      <td>NaN</td>\n      <td>NaN</td>\n    </tr>\n    <tr>\n      <th>34</th>\n      <td>by_me_press</td>\n      <td>[Who’s Speaking at the Republican National Con...</td>\n      <td>The New York Times</td>\n      <td>NaN</td>\n      <td>2016.0</td>\n      <td>2016.0</td>\n      <td>Used same data scraping techniques as Who’s Sp...</td>\n      <td>NaN</td>\n      <td>NaN</td>\n      <td>False</td>\n      <td>...</td>\n      <td>NaN</td>\n      <td>NaN</td>\n      <td>NaN</td>\n      <td>NaN</td>\n      <td>NaN</td>\n      <td>NaN</td>\n      <td>NaN</td>\n      <td>NaN</td>\n      <td>NaN</td>\n      <td>NaN</td>\n    </tr>\n    <tr>\n      <th>35</th>\n      <td>by_me_press</td>\n      <td>[A Trail of Terror in Nice, Block by Block](ht...</td>\n      <td>The New York Times</td>\n      <td>NaN</td>\n      <td>2016.0</td>\n      <td>2016.0</td>\n      <td>Led research effort to put together story of 2...</td>\n      <td>Work won Silver medal at Malofiej 2017, and go...</td>\n      <td>NaN</td>\n      <td>False</td>\n      <td>...</td>\n      <td>NaN</td>\n      <td>NaN</td>\n      <td>NaN</td>\n      <td>NaN</td>\n      <td>NaN</td>\n      <td>NaN</td>\n      <td>NaN</td>\n      <td>NaN</td>\n      <td>NaN</td>\n      <td>NaN</td>\n    </tr>\n    <tr>\n      <th>36</th>\n      <td>academic_articles</td>\n      <td>Asymmetric Linkage Disequilibrium: Tools for D...</td>\n      <td>Journal of Human Immunology</td>\n      <td>NaN</td>\n      <td>2015.0</td>\n      <td>2015.0</td>\n      <td>Authored with Richard Single, Vanja Paunic, Ma...</td>\n      <td>NaN</td>\n      <td>NaN</td>\n      <td>False</td>\n      <td>...</td>\n      <td>NaN</td>\n      <td>NaN</td>\n      <td>NaN</td>\n      <td>NaN</td>\n      <td>NaN</td>\n      <td>NaN</td>\n      <td>NaN</td>\n      <td>NaN</td>\n      <td>NaN</td>\n      <td>NaN</td>\n    </tr>\n    <tr>\n      <th>37</th>\n      <td>academic_articles</td>\n      <td>[An Agent Based Model of Mysis Migration](http...</td>\n      <td>International Association of Great Lakes Resea...</td>\n      <td>NaN</td>\n      <td>2015.0</td>\n      <td>2015.0</td>\n      <td>Authored with Brian O'Malley, Sture Hansson, a...</td>\n      <td>NaN</td>\n      <td>NaN</td>\n      <td>False</td>\n      <td>...</td>\n      <td>NaN</td>\n      <td>NaN</td>\n      <td>NaN</td>\n      <td>NaN</td>\n      <td>NaN</td>\n      <td>NaN</td>\n      <td>NaN</td>\n      <td>NaN</td>\n      <td>NaN</td>\n      <td>NaN</td>\n    </tr>\n    <tr>\n      <th>38</th>\n      <td>academic_articles</td>\n      <td>Declines of Mysis diluviana in the Great Lakes</td>\n      <td>Journal of Great Lakes Research</td>\n      <td>NaN</td>\n      <td>2015.0</td>\n      <td>2015.0</td>\n      <td>Authored with Peter Euclide and Jason Stockwell.</td>\n      <td>NaN</td>\n      <td>NaN</td>\n      <td>False</td>\n      <td>...</td>\n      <td>NaN</td>\n      <td>NaN</td>\n      <td>NaN</td>\n      <td>NaN</td>\n      <td>NaN</td>\n      <td>NaN</td>\n      <td>NaN</td>\n      <td>NaN</td>\n      <td>NaN</td>\n      <td>NaN</td>\n    </tr>\n    <tr>\n      <th>39</th>\n      <td>academic_articles</td>\n      <td>[Continuous Classification using Deep Neural N...</td>\n      <td>Vanderbilt Biostatistics Qualification Exam</td>\n      <td>NaN</td>\n      <td>2017.0</td>\n      <td>2017.0</td>\n      <td>Review of methods for classifying continuous d...</td>\n      <td>Successfully met qualifying examination standards</td>\n      <td>NaN</td>\n      <td>False</td>\n      <td>...</td>\n      <td>NaN</td>\n      <td>NaN</td>\n      <td>NaN</td>\n      <td>NaN</td>\n      <td>NaN</td>\n      <td>NaN</td>\n      <td>NaN</td>\n      <td>NaN</td>\n      <td>NaN</td>\n      <td>NaN</td>\n    </tr>\n    <tr>\n      <th>40</th>\n      <td>academic_articles</td>\n      <td>[Charge Reductions Associated with Shortening ...</td>\n      <td>Chest</td>\n      <td>NaN</td>\n      <td>2019.0</td>\n      <td>2019.0</td>\n      <td>Authored with Wesley H. Self, MD MPH; Dandan L...</td>\n      <td>NaN</td>\n      <td>NaN</td>\n      <td>False</td>\n      <td>...</td>\n      <td>NaN</td>\n      <td>NaN</td>\n      <td>NaN</td>\n      <td>NaN</td>\n      <td>NaN</td>\n      <td>NaN</td>\n      <td>NaN</td>\n      <td>NaN</td>\n      <td>NaN</td>\n      <td>NaN</td>\n    </tr>\n    <tr>\n      <th>41</th>\n      <td>academic_articles</td>\n      <td>R timelineViz: Visualizing the distribution of...</td>\n      <td>Under-Review (copy available upon request.)</td>\n      <td>NaN</td>\n      <td>2018.0</td>\n      <td>2018.0</td>\n      <td>Authored with Alex Sunderman of the Vanderbilt...</td>\n      <td>NaN</td>\n      <td>NaN</td>\n      <td>False</td>\n      <td>...</td>\n      <td>NaN</td>\n      <td>NaN</td>\n      <td>NaN</td>\n      <td>NaN</td>\n      <td>NaN</td>\n      <td>NaN</td>\n      <td>NaN</td>\n      <td>NaN</td>\n      <td>NaN</td>\n      <td>NaN</td>\n    </tr>\n    <tr>\n      <th>42</th>\n      <td>academic_articles</td>\n      <td>[Multimorbidity Explorer | A shiny app for exp...</td>\n      <td>RStudio::conf 2019</td>\n      <td>NaN</td>\n      <td>2019.0</td>\n      <td>2019.0</td>\n      <td>Contributed Poster. Authored with Yaomin Xu.</td>\n      <td>NaN</td>\n      <td>NaN</td>\n      <td>False</td>\n      <td>...</td>\n      <td>NaN</td>\n      <td>NaN</td>\n      <td>NaN</td>\n      <td>NaN</td>\n      <td>NaN</td>\n      <td>NaN</td>\n      <td>NaN</td>\n      <td>NaN</td>\n      <td>NaN</td>\n      <td>NaN</td>\n    </tr>\n    <tr>\n      <th>43</th>\n      <td>academic_articles</td>\n      <td>[Taking a network view of EHR and Biobank data...</td>\n      <td>Vanderbilt Biostatistics Seminar Series</td>\n      <td>NaN</td>\n      <td>2019.0</td>\n      <td>2019.0</td>\n      <td>University wide seminar series.</td>\n      <td>NaN</td>\n      <td>NaN</td>\n      <td>False</td>\n      <td>...</td>\n      <td>NaN</td>\n      <td>NaN</td>\n      <td>NaN</td>\n      <td>NaN</td>\n      <td>NaN</td>\n      <td>NaN</td>\n      <td>NaN</td>\n      <td>NaN</td>\n      <td>NaN</td>\n      <td>NaN</td>\n    </tr>\n    <tr>\n      <th>44</th>\n      <td>academic_articles</td>\n      <td>Patient-specific risk factors independently in...</td>\n      <td>Under-Review (copy available upon request.)</td>\n      <td>NaN</td>\n      <td>NaN</td>\n      <td>2019.0</td>\n      <td>Bayesian network analysis used to find novel s...</td>\n      <td>Analysis done using method built for my disser...</td>\n      <td>NaN</td>\n      <td>False</td>\n      <td>...</td>\n      <td>NaN</td>\n      <td>NaN</td>\n      <td>NaN</td>\n      <td>NaN</td>\n      <td>NaN</td>\n      <td>NaN</td>\n      <td>NaN</td>\n      <td>NaN</td>\n      <td>NaN</td>\n      <td>NaN</td>\n    </tr>\n    <tr>\n      <th>45</th>\n      <td>academic_articles</td>\n      <td>Building a software package in tandem with mac...</td>\n      <td>ENAR 2020</td>\n      <td>NaN</td>\n      <td>NaN</td>\n      <td>2020.0</td>\n      <td>Invited talk in Human Data Interaction section.</td>\n      <td>How and why building an R package can benefit ...</td>\n      <td>NaN</td>\n      <td>False</td>\n      <td>...</td>\n      <td>NaN</td>\n      <td>NaN</td>\n      <td>NaN</td>\n      <td>NaN</td>\n      <td>NaN</td>\n      <td>NaN</td>\n      <td>NaN</td>\n      <td>NaN</td>\n      <td>NaN</td>\n      <td>NaN</td>\n    </tr>\n    <tr>\n      <th>46</th>\n      <td>academic_articles</td>\n      <td>[Stochastic Block Modeling in R, Statistically...</td>\n      <td>RStudio::conf 2020</td>\n      <td>NaN</td>\n      <td>NaN</td>\n      <td>2020.0</td>\n      <td>Invited talk about new [sbmR package](https://...</td>\n      <td>Focus on how software development and methodol...</td>\n      <td>NaN</td>\n      <td>False</td>\n      <td>...</td>\n      <td>NaN</td>\n      <td>NaN</td>\n      <td>NaN</td>\n      <td>NaN</td>\n      <td>NaN</td>\n      <td>NaN</td>\n      <td>NaN</td>\n      <td>NaN</td>\n      <td>NaN</td>\n      <td>NaN</td>\n    </tr>\n    <tr>\n      <th>47</th>\n      <td>academic_articles</td>\n      <td>Patient specific comorbidities impact overall ...</td>\n      <td>Under-Review (copy available upon request.)</td>\n      <td>NaN</td>\n      <td>NaN</td>\n      <td>2019.0</td>\n      <td>Bayesian network analysis used to find robust ...</td>\n      <td>Analysis done using method built for my disser...</td>\n      <td>NaN</td>\n      <td>False</td>\n      <td>...</td>\n      <td>NaN</td>\n      <td>NaN</td>\n      <td>NaN</td>\n      <td>NaN</td>\n      <td>NaN</td>\n      <td>NaN</td>\n      <td>NaN</td>\n      <td>NaN</td>\n      <td>NaN</td>\n      <td>NaN</td>\n    </tr>\n    <tr>\n      <th>48</th>\n      <td>academic_articles</td>\n      <td>[PheWAS-ME: A web-app for interactive explorat...</td>\n      <td>Bioinformatics</td>\n      <td>NaN</td>\n      <td>NaN</td>\n      <td>2020.0</td>\n      <td>Manuscript detailing application for the explo...</td>\n      <td>See [landing page](https://prod.tbilab.org/phe...</td>\n      <td>NaN</td>\n      <td>False</td>\n      <td>...</td>\n      <td>NaN</td>\n      <td>NaN</td>\n      <td>NaN</td>\n      <td>NaN</td>\n      <td>NaN</td>\n      <td>NaN</td>\n      <td>NaN</td>\n      <td>NaN</td>\n      <td>NaN</td>\n      <td>NaN</td>\n    </tr>\n  </tbody>\n</table>\n<p>49 rows × 26 columns</p>\n</div>"
     },
     "execution_count": 9,
     "metadata": {},
     "output_type": "execute_result"
    }
   ],
   "source": [
    "test_1"
   ],
   "metadata": {
    "collapsed": false,
    "pycharm": {
     "name": "#%%\n"
    }
   }
  },
  {
   "cell_type": "code",
   "execution_count": null,
   "outputs": [],
   "source": [
    "#manejar que datos puedan venir de sheets, excel o csv"
   ],
   "metadata": {
    "collapsed": false,
    "pycharm": {
     "name": "#%%\n"
    }
   }
  },
  {
   "cell_type": "code",
   "execution_count": 29,
   "outputs": [],
   "source": [
    "secciones = list(test_1['section'].unique())\n",
    "columnas_ok = [c for c in test_1.columns if not c.isnumeric()]"
   ],
   "metadata": {
    "collapsed": false,
    "pycharm": {
     "name": "#%%\n"
    }
   }
  },
  {
   "cell_type": "code",
   "execution_count": 32,
   "outputs": [],
   "source": [
    "test_1 = test_1[columnas_ok]"
   ],
   "metadata": {
    "collapsed": false,
    "pycharm": {
     "name": "#%%\n"
    }
   }
  },
  {
   "cell_type": "code",
   "execution_count": 35,
   "outputs": [
    {
     "data": {
      "text/plain": "                                 title                              loc  \\\n0       Doctor en Ciencia y Tecnología  Universidad Nacional de Quilmes   \n1          Licenciado en Biotecnología  Universidad Nacional de Quilmes   \n2    Diplomado en Ciencia y Tecnología  Universidad Nacional de Quilmes   \n3  Técnico laboratorista universitario  Universidad Nacional de Quilmes   \n\n               institution   start     end                   description_1  \\\n0  Buenos Aires, Argentina  2015.0     NaN                             NaN   \n1  Buenos Aires, Argentina  2009.0  2015.0  Orientación genética molecular   \n2  Buenos Aires, Argentina  2009.0  2011.0                             NaN   \n3  Buenos Aires, Argentina  2009.0  2011.0                             NaN   \n\n  description_2 description_3  in_resume  \n0           NaN           NaN      False  \n1           NaN           NaN      False  \n2           NaN           NaN      False  \n3           NaN           NaN       True  ",
      "text/html": "<div>\n<style scoped>\n    .dataframe tbody tr th:only-of-type {\n        vertical-align: middle;\n    }\n\n    .dataframe tbody tr th {\n        vertical-align: top;\n    }\n\n    .dataframe thead th {\n        text-align: right;\n    }\n</style>\n<table border=\"1\" class=\"dataframe\">\n  <thead>\n    <tr style=\"text-align: right;\">\n      <th></th>\n      <th>title</th>\n      <th>loc</th>\n      <th>institution</th>\n      <th>start</th>\n      <th>end</th>\n      <th>description_1</th>\n      <th>description_2</th>\n      <th>description_3</th>\n      <th>in_resume</th>\n    </tr>\n  </thead>\n  <tbody>\n    <tr>\n      <th>0</th>\n      <td>Doctor en Ciencia y Tecnología</td>\n      <td>Universidad Nacional de Quilmes</td>\n      <td>Buenos Aires, Argentina</td>\n      <td>2015.0</td>\n      <td>NaN</td>\n      <td>NaN</td>\n      <td>NaN</td>\n      <td>NaN</td>\n      <td>False</td>\n    </tr>\n    <tr>\n      <th>1</th>\n      <td>Licenciado en Biotecnología</td>\n      <td>Universidad Nacional de Quilmes</td>\n      <td>Buenos Aires, Argentina</td>\n      <td>2009.0</td>\n      <td>2015.0</td>\n      <td>Orientación genética molecular</td>\n      <td>NaN</td>\n      <td>NaN</td>\n      <td>False</td>\n    </tr>\n    <tr>\n      <th>2</th>\n      <td>Diplomado en Ciencia y Tecnología</td>\n      <td>Universidad Nacional de Quilmes</td>\n      <td>Buenos Aires, Argentina</td>\n      <td>2009.0</td>\n      <td>2011.0</td>\n      <td>NaN</td>\n      <td>NaN</td>\n      <td>NaN</td>\n      <td>False</td>\n    </tr>\n    <tr>\n      <th>3</th>\n      <td>Técnico laboratorista universitario</td>\n      <td>Universidad Nacional de Quilmes</td>\n      <td>Buenos Aires, Argentina</td>\n      <td>2009.0</td>\n      <td>2011.0</td>\n      <td>NaN</td>\n      <td>NaN</td>\n      <td>NaN</td>\n      <td>True</td>\n    </tr>\n  </tbody>\n</table>\n</div>"
     },
     "execution_count": 35,
     "metadata": {},
     "output_type": "execute_result"
    }
   ],
   "source": [
    "test_1[test_1['section'] == secciones[0]].iloc[:, 1:]"
   ],
   "metadata": {
    "collapsed": false,
    "pycharm": {
     "name": "#%%\n"
    }
   }
  },
  {
   "cell_type": "code",
   "execution_count": 38,
   "outputs": [
    {
     "data": {
      "text/plain": "[{'title': 'Doctor en Ciencia y Tecnología',\n  'loc': 'Universidad Nacional de Quilmes',\n  'institution': 'Buenos Aires, Argentina',\n  'start': 2015.0,\n  'end': nan,\n  'description_1': nan,\n  'description_2': nan,\n  'description_3': nan,\n  'in_resume': False},\n {'title': 'Licenciado en Biotecnología',\n  'loc': 'Universidad Nacional de Quilmes',\n  'institution': 'Buenos Aires, Argentina',\n  'start': 2009.0,\n  'end': 2015.0,\n  'description_1': 'Orientación genética molecular',\n  'description_2': nan,\n  'description_3': nan,\n  'in_resume': False},\n {'title': 'Diplomado en Ciencia y Tecnología',\n  'loc': 'Universidad Nacional de Quilmes',\n  'institution': 'Buenos Aires, Argentina',\n  'start': 2009.0,\n  'end': 2011.0,\n  'description_1': nan,\n  'description_2': nan,\n  'description_3': nan,\n  'in_resume': False},\n {'title': 'Técnico laboratorista universitario',\n  'loc': 'Universidad Nacional de Quilmes',\n  'institution': 'Buenos Aires, Argentina',\n  'start': 2009.0,\n  'end': 2011.0,\n  'description_1': nan,\n  'description_2': nan,\n  'description_3': nan,\n  'in_resume': True}]"
     },
     "execution_count": 38,
     "metadata": {},
     "output_type": "execute_result"
    }
   ],
   "source": [
    "test_1[test_1['section'] == secciones[0]].iloc[:, 1:].to_dict(orient= 'records')"
   ],
   "metadata": {
    "collapsed": false,
    "pycharm": {
     "name": "#%%\n"
    }
   }
  },
  {
   "cell_type": "code",
   "execution_count": 39,
   "outputs": [],
   "source": [
    "class CV:\n",
    "    def __init__(self, df):\n",
    "        self.__data = df\n",
    "        self.sections = []\n",
    "\n",
    "    def get_data(self):\n",
    "        for s in list(self.__data['section'].unique()):\n",
    "            self.sections.append(Section(s, self.__data[self.__data['section'] == s].iloc[:, 1:].to_dict(orient= 'records')))\n",
    "\n",
    "\n",
    "class Section:\n",
    "    def __init__(self, name, content):\n",
    "        self.name = name\n",
    "        self.content = content\n",
    "\n"
   ],
   "metadata": {
    "collapsed": false,
    "pycharm": {
     "name": "#%%\n"
    }
   }
  },
  {
   "cell_type": "code",
   "execution_count": 12,
   "outputs": [
    {
     "data": {
      "text/plain": "['education',\n 'research_positions',\n 'industry_positions',\n 'teaching_positions',\n 'data_science_writings',\n 'about_me_press',\n 'by_me_press',\n 'academic_articles']"
     },
     "execution_count": 12,
     "metadata": {},
     "output_type": "execute_result"
    }
   ],
   "source": [
    "#Hoja entradas\n",
    "list(test_1['section'].unique())\n"
   ],
   "metadata": {
    "collapsed": false,
    "pycharm": {
     "name": "#%%\n"
    }
   }
  },
  {
   "cell_type": "code",
   "execution_count": null,
   "outputs": [],
   "source": [
    "# cada section es un diccionario del doc, dentro de cada dict cada row es otro dict. Pensar como darle una cantidad x de description\n",
    "# booleano para si tiene que estar incluido o no"
   ],
   "metadata": {
    "collapsed": false,
    "pycharm": {
     "name": "#%%\n"
    }
   }
  },
  {
   "cell_type": "code",
   "execution_count": 40,
   "outputs": [],
   "source": [
    "cv = CV(test_1)"
   ],
   "metadata": {
    "collapsed": false,
    "pycharm": {
     "name": "#%%\n"
    }
   }
  },
  {
   "cell_type": "code",
   "execution_count": 41,
   "outputs": [],
   "source": [
    "cv.get_data()"
   ],
   "metadata": {
    "collapsed": false,
    "pycharm": {
     "name": "#%%\n"
    }
   }
  },
  {
   "cell_type": "code",
   "execution_count": 43,
   "outputs": [
    {
     "data": {
      "text/plain": "[{'title': 'Doctor en Ciencia y Tecnología',\n  'loc': 'Universidad Nacional de Quilmes',\n  'institution': 'Buenos Aires, Argentina',\n  'start': 2015.0,\n  'end': nan,\n  'description_1': nan,\n  'description_2': nan,\n  'description_3': nan,\n  'in_resume': False},\n {'title': 'Licenciado en Biotecnología',\n  'loc': 'Universidad Nacional de Quilmes',\n  'institution': 'Buenos Aires, Argentina',\n  'start': 2009.0,\n  'end': 2015.0,\n  'description_1': 'Orientación genética molecular',\n  'description_2': nan,\n  'description_3': nan,\n  'in_resume': False},\n {'title': 'Diplomado en Ciencia y Tecnología',\n  'loc': 'Universidad Nacional de Quilmes',\n  'institution': 'Buenos Aires, Argentina',\n  'start': 2009.0,\n  'end': 2011.0,\n  'description_1': nan,\n  'description_2': nan,\n  'description_3': nan,\n  'in_resume': False},\n {'title': 'Técnico laboratorista universitario',\n  'loc': 'Universidad Nacional de Quilmes',\n  'institution': 'Buenos Aires, Argentina',\n  'start': 2009.0,\n  'end': 2011.0,\n  'description_1': nan,\n  'description_2': nan,\n  'description_3': nan,\n  'in_resume': True}]"
     },
     "execution_count": 43,
     "metadata": {},
     "output_type": "execute_result"
    }
   ],
   "source": [
    "cv.sections[0].content"
   ],
   "metadata": {
    "collapsed": false,
    "pycharm": {
     "name": "#%%\n"
    }
   }
  },
  {
   "cell_type": "code",
   "execution_count": 36,
   "outputs": [
    {
     "ename": "SyntaxError",
     "evalue": "unexpected EOF while parsing (<ipython-input-36-bea027243ff7>, line 1)",
     "output_type": "error",
     "traceback": [
      "\u001B[1;36m  File \u001B[1;32m\"<ipython-input-36-bea027243ff7>\"\u001B[1;36m, line \u001B[1;32m1\u001B[0m\n\u001B[1;33m    for s in cv.sections:\u001B[0m\n\u001B[1;37m                         ^\u001B[0m\n\u001B[1;31mSyntaxError\u001B[0m\u001B[1;31m:\u001B[0m unexpected EOF while parsing\n"
     ]
    }
   ],
   "source": [
    "# generar html?"
   ],
   "metadata": {
    "collapsed": false,
    "pycharm": {
     "name": "#%%\n"
    }
   }
  },
  {
   "cell_type": "code",
   "execution_count": null,
   "outputs": [],
   "source": [],
   "metadata": {
    "collapsed": false,
    "pycharm": {
     "name": "#%%\n"
    }
   }
  }
 ],
 "metadata": {
  "kernelspec": {
   "display_name": "Python 3",
   "language": "python",
   "name": "python3"
  },
  "language_info": {
   "codemirror_mode": {
    "name": "ipython",
    "version": 2
   },
   "file_extension": ".py",
   "mimetype": "text/x-python",
   "name": "python",
   "nbconvert_exporter": "python",
   "pygments_lexer": "ipython2",
   "version": "2.7.6"
  }
 },
 "nbformat": 4,
 "nbformat_minor": 0
}